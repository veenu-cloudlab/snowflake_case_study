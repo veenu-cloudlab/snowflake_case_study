{
 "cells": [
  {
   "cell_type": "markdown",
   "id": "510b6de1-cc9d-4d6e-aa68-6374f7f6ed5f",
   "metadata": {},
   "source": [
    "Install Libraries : \n",
    "\n",
    "!pip install snowflake-snowpark-python\n",
    "\n",
    "! pip install ipynb\n",
    "\n",
    "! pip install import-ipynb"
   ]
  },
  {
   "cell_type": "code",
   "execution_count": 343,
   "id": "7b46b700-292a-4069-8300-07235c41312b",
   "metadata": {},
   "outputs": [],
   "source": [
    "from snowflake.snowpark import Session\n",
    "from snowflake.snowpark.functions import col, count, sum, lit, round, rank, max, parse_json\n",
    "from snowflake.snowpark.window import Window\n",
    "from snowflake.snowpark import DataFrame\n",
    "from typing import Dict"
   ]
  },
  {
   "cell_type": "markdown",
   "id": "91e156d8-3fb9-42fc-b754-ae8e0ca5e2ad",
   "metadata": {},
   "source": [
    "## Connect to Snowflake"
   ]
  },
  {
   "cell_type": "code",
   "execution_count": 352,
   "id": "cbe384c2-5cf6-46fb-b5ef-65d06a35fe98",
   "metadata": {},
   "outputs": [],
   "source": [
    "#Parameters:\n",
    "\n",
    "t_raw_emp = \"CASE_STUDY.BRONZE.RAW_EMPLOYEE\"\n",
    "t_raw_order = \"CASE_STUDY.BRONZE.RAW_ORDER\"\n",
    "t_raw_emp_ord_map = \"CASE_STUDY.BRONZE.RAW_EMP_ORD_BRIDGE\"\n",
    "\n",
    "t_int_emp = \"CASE_STUDY.SILVER.INT_EMPLOYEE\"\n",
    "t_int_order = \"CASE_STUDY.SILVER.INT_ORDER\"\n",
    "t_int_emp_ord_map = \"CASE_STUDY.SILVER.INT_EMP_ORD_BRIDGE\"\n",
    "\n",
    "t_prm_emp = \"CASE_STUDY.GOLD.EMP_ORDERS\"\n",
    "\n",
    "rename_emp_dict = {\n",
    "    \"EMP_ID\": \"employee_id\",\n",
    "    \"EMP_NAME\": \"employee_name\"\n",
    "}\n",
    "\n",
    "rename_emp_ord_map_dict= {\n",
    "    \"EMP_ID\": \"employee_id\",\n",
    "    \"ORDER_ID\": \"order_id\"}"
   ]
  },
  {
   "cell_type": "code",
   "execution_count": null,
   "id": "b1722c91-addf-4109-8543-af97ce8cced0",
   "metadata": {},
   "outputs": [],
   "source": [
    "session = snowflake_connect()\n",
    "print(\"SNOWFLAKE CONNECTION SUCCESSULL\")"
   ]
  },
  {
   "cell_type": "markdown",
   "id": "dd4f08dc-e01a-4377-9f11-c1220df080a0",
   "metadata": {},
   "source": [
    "## Data Cleaning Libraries"
   ]
  },
  {
   "cell_type": "code",
   "execution_count": 345,
   "id": "6894ea99-7491-4728-8d3d-0c2eb9cb2827",
   "metadata": {},
   "outputs": [],
   "source": [
    "def rename_columns_from_dict(df: DataFrame, rename_map: Dict[str, str]) -> DataFrame:\n",
    "    \"\"\"\n",
    "    Renames columns in a PySpark DataFrame based on a dictionary map.\n",
    "\n",
    "    Args:\n",
    "        df (DataFrame): The input PySpark DataFrame.\n",
    "        rename_map (Dict[str, str]): A dictionary where keys are the \n",
    "                                      current column names (old) and values \n",
    "                                      are the desired column names (new).\n",
    "\n",
    "    Returns:\n",
    "        DataFrame: A new DataFrame with the specified columns renamed.\n",
    "    \"\"\"\n",
    "    renamed_cols = [\n",
    "        df[col_name].alias(rename_map[col_name])\n",
    "        if col_name in rename_map\n",
    "        else col_name\n",
    "        for col_name in df.columns\n",
    "    ]\n",
    "    return df.select(renamed_cols)\n",
    "\n",
    "def sanitize_snowpark_column_names(df: DataFrame) -> DataFrame:\n",
    "    \"\"\"\n",
    "    Sanitizes column names in a Snowpark DataFrame by explicitly casting \n",
    "    them to their string representation, which removes extraneous metadata \n",
    "    (like hidden 'dict' structure or complex objects).\n",
    "\n",
    "    Args:\n",
    "        df (DataFrame): The input Snowpark DataFrame with potentially complex column names.\n",
    "\n",
    "    Returns:\n",
    "        DataFrame: A new DataFrame with clean, simple string column names.\n",
    "    \"\"\"\n",
    "    \n",
    "    sanitized_cols = [\n",
    "        col(current_name).alias(str(current_name).strip('\"').upper() )\n",
    "        for current_name in df.columns\n",
    "    ]\n",
    "    return df.select(sanitized_cols)"
   ]
  },
  {
   "cell_type": "code",
   "execution_count": 350,
   "id": "f1959d24-21d6-47c1-88cc-88edb4378de6",
   "metadata": {},
   "outputs": [],
   "source": [
    "def int_emp(df: DataFrame) -> int:\n",
    "    df_int_emp = session.sql(f\"\"\"SELECT * FROM {t_raw_emp}\"\"\")\n",
    "    processed_emp = sanitize_snowpark_column_names(rename_columns_from_dict(df_int_emp.select(list(rename_emp_dict.keys())), rename_emp_dict))\n",
    "    processed_emp.write.mode(\"append\").save_as_table(t_int_emp)\n",
    "    return 0\n",
    "    "
   ]
  },
  {
   "cell_type": "markdown",
   "id": "c7baa5b1-26ab-45af-9285-fb9fd9048e59",
   "metadata": {},
   "source": [
    "## Intermediate Layer Data Processing"
   ]
  },
  {
   "cell_type": "markdown",
   "id": "6091d672-04fc-493c-8d45-cc64d275aaed",
   "metadata": {},
   "source": [
    "### 1. Employee"
   ]
  },
  {
   "cell_type": "code",
   "execution_count": 346,
   "id": "c95e12a5-e970-44e7-a567-95f3730d0f79",
   "metadata": {},
   "outputs": [],
   "source": [
    "df_int_emp = session.sql(f\"\"\"SELECT * FROM {t_raw_emp}\"\"\")\n",
    "processed_emp = sanitize_snowpark_column_names(rename_columns_from_dict(df_int_emp.select(list(rename_emp_dict.keys())), rename_emp_dict))\n",
    "processed_emp.write.mode(\"append\").save_as_table(t_int_emp)\n"
   ]
  },
  {
   "cell_type": "markdown",
   "id": "0f4a0c83-5ee0-4268-98c5-b399ee5a4eba",
   "metadata": {},
   "source": [
    "### 2. Orders"
   ]
  },
  {
   "cell_type": "code",
   "execution_count": 341,
   "id": "744747bf-bfed-4b5d-accf-6df19fe987ec",
   "metadata": {},
   "outputs": [],
   "source": [
    "df_int_ord = session.sql(f\"\"\"SELECT RECORD_CONTENT FROM {t_raw_order}\"\"\")\n",
    "    \n",
    "processed_ord = (\n",
    "        df_int_ord\n",
    "        .with_column(\"RECORD_CONTENT\", parse_json(col(\"RECORD_CONTENT\")))\n",
    "        .select(\n",
    "            col(\"RECORD_CONTENT\")[\"itemid\"].as_(\"ITEM_ID\"),\n",
    "            col(\"RECORD_CONTENT\")[\"orderid\"].as_(\"ORDER_ID\"),\n",
    "            col(\"RECORD_CONTENT\")[\"ordertime\"].as_(\"ORDER_TIME\"),\n",
    "            col(\"RECORD_CONTENT\")[\"orderunits\"].as_(\"ORDER_UNITS\"),\n",
    "            col(\"RECORD_CONTENT\")[\"address\"][\"city\"].as_(\"CITY\"),\n",
    "            col(\"RECORD_CONTENT\")[\"address\"][\"state\"].as_(\"STATE\"),\n",
    "            col(\"RECORD_CONTENT\")[\"address\"][\"zipcode\"].as_(\"ZIPCODE\")\n",
    "        )\n",
    "    )\n",
    "    \n",
    "sanitize_snowpark_column_names(processed_ord).write.mode(\"append\").save_as_table(t_int_order)\n",
    "    "
   ]
  },
  {
   "cell_type": "markdown",
   "id": "afc69621-05d6-411d-93eb-9e9dc0b7643b",
   "metadata": {},
   "source": [
    "### 3. Order Map"
   ]
  },
  {
   "cell_type": "code",
   "execution_count": 342,
   "id": "930df973-6d99-4e27-aa5f-6ebe580f4b69",
   "metadata": {},
   "outputs": [],
   "source": [
    "df_int_emp_ord_map = session.sql(f\"\"\"SELECT * FROM {t_raw_emp_ord_map}\"\"\")\n",
    "processed_emp_ord_map = sanitize_snowpark_column_names(rename_columns_from_dict(df_int_emp_ord_map.select(list(rename_emp_ord_map_dict.keys())), rename_emp_ord_map_dict))\n",
    "processed_emp_ord_map.write.mode(\"append\").save_as_table(t_int_emp_ord_map)"
   ]
  },
  {
   "cell_type": "markdown",
   "id": "dfc4530c-6c4b-4914-a3f7-59c482d94abc",
   "metadata": {},
   "source": [
    "## Primary Layer Data Processing"
   ]
  },
  {
   "cell_type": "code",
   "execution_count": 273,
   "id": "9ed38d87-ce06-4fc0-9e9f-6cc139aa6a2d",
   "metadata": {},
   "outputs": [],
   "source": [
    "df_emp = session.sql(f\"\"\"SELECT * FROM {t_int_emp}\"\"\")\n",
    "df_ord = session.sql(f\"\"\"SELECT * FROM {t_int_order}\"\"\")\n",
    "df_emp_ord_map = session.sql(f\"\"\"SELECT * FROM {t_int_emp_ord_map}\"\"\")"
   ]
  },
  {
   "cell_type": "code",
   "execution_count": 274,
   "id": "61d5e6ac-2a89-4d71-9fde-5da8b1ed6235",
   "metadata": {},
   "outputs": [],
   "source": [
    "df_master = df_ord.join(df_emp_ord_map,\"ORDER_ID\",\"inner\")\\\n",
    "                    .join(df_emp,\"EMPLOYEE_ID\",\"inner\")\\\n",
    "                    .with_column(\"ORDER_UNITS\", round(\"ORDER_UNITS\",2))"
   ]
  },
  {
   "cell_type": "code",
   "execution_count": 275,
   "id": "f9633cc1-b685-4a5b-923a-4835033fd4ec",
   "metadata": {},
   "outputs": [],
   "source": [
    "total_units_sold = df_master.select(round(sum(col(\"ORDER_UNITS\")),2).alias(\"TOTAL_UNITS_SOLD\")).collect()[0][\"TOTAL_UNITS_SOLD\"]"
   ]
  },
  {
   "cell_type": "code",
   "execution_count": 276,
   "id": "93777aee-0440-4e92-ab9e-af7ff4a08afa",
   "metadata": {},
   "outputs": [],
   "source": [
    "df_emp_metrics = df_master.group_by(\n",
    "    col(\"EMPLOYEE_ID\"), \n",
    "    col(\"EMPLOYEE_NAME\")\n",
    ").agg(\n",
    "    count(col(\"ORDER_ID\")).alias(\"EMPLOYEE_ORDER_COUNT\"),\n",
    "    round(sum(col(\"ORDER_UNITS\")),2).alias(\"EMPLOYEE_UNITS_SOLD\")\n",
    ").with_column(\n",
    "    \"CONTRIBUTION_PERCENTAGE\",\n",
    "    round(\n",
    "        (col(\"EMPLOYEE_UNITS_SOLD\") / lit(total_units_sold)) * 100, \n",
    "        2\n",
    "    )\n",
    ")\n"
   ]
  },
  {
   "cell_type": "code",
   "execution_count": 277,
   "id": "fa6c6712-32e6-4296-b13f-79b549b67c7c",
   "metadata": {},
   "outputs": [],
   "source": [
    "df_emp_metrics.write.mode(\"append\").save_as_table(t_prm_emp)"
   ]
  },
  {
   "cell_type": "code",
   "execution_count": 278,
   "id": "a82767ea-3c12-491e-8da5-16c1198c5754",
   "metadata": {},
   "outputs": [
    {
     "name": "stdout",
     "output_type": "stream",
     "text": [
      "Session closed\n"
     ]
    }
   ],
   "source": [
    "# session.close()\n",
    "# print(\"Session closed\")"
   ]
  },
  {
   "cell_type": "code",
   "execution_count": null,
   "id": "221db8cc-9ddc-4e46-b8da-c92543e77516",
   "metadata": {},
   "outputs": [],
   "source": []
  },
  {
   "cell_type": "code",
   "execution_count": null,
   "id": "d52dc400-34f3-4eac-ae5c-cc9c5ec25b88",
   "metadata": {},
   "outputs": [],
   "source": []
  },
  {
   "cell_type": "code",
   "execution_count": null,
   "id": "f4c13aa2-b2f1-496a-887d-9e08a903aa7b",
   "metadata": {},
   "outputs": [],
   "source": []
  }
 ],
 "metadata": {
  "kernelspec": {
   "display_name": "milvus_env",
   "language": "python",
   "name": "milvus_env"
  },
  "language_info": {
   "codemirror_mode": {
    "name": "ipython",
    "version": 3
   },
   "file_extension": ".py",
   "mimetype": "text/x-python",
   "name": "python",
   "nbconvert_exporter": "python",
   "pygments_lexer": "ipython3",
   "version": "3.9.21"
  }
 },
 "nbformat": 4,
 "nbformat_minor": 5
}
