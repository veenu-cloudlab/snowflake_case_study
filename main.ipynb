{
 "cells": [
  {
   "cell_type": "code",
   "execution_count": 60,
   "id": "5d8feadc-a2ac-46f7-99ae-50c8488c3462",
   "metadata": {},
   "outputs": [],
   "source": [
    "import warnings\n",
    "import import_ipynb\n",
    "import logging\n",
    "\n",
    "# Suppress all INFO level logging and below\n",
    "logger = logging.getLogger()\n",
    "logger.setLevel(logging.CRITICAL) \n",
    "warnings.filterwarnings('ignore')\n"
   ]
  },
  {
   "cell_type": "markdown",
   "id": "21aefcc1-6e57-4cf4-b169-2a14327e34f0",
   "metadata": {},
   "source": [
    "## Load snowflake data"
   ]
  },
  {
   "cell_type": "code",
   "execution_count": 54,
   "id": "a2609b2c-0be6-4eec-bb08-261e46ca8043",
   "metadata": {},
   "outputs": [],
   "source": [
    "%run conn_sf.ipynb"
   ]
  },
  {
   "cell_type": "markdown",
   "id": "e5beaf51-71f0-4b52-ad60-aeab78f474f6",
   "metadata": {},
   "source": [
    "### Connect to Streamlit"
   ]
  },
  {
   "cell_type": "code",
   "execution_count": 21,
   "id": "566f68f2-2f39-4b26-9615-196838412b74",
   "metadata": {},
   "outputs": [
    {
     "name": "stdout",
     "output_type": "stream",
     "text": [
      "\u001b[0m\n",
      "\u001b[34m\u001b[1m  You can now view your Streamlit app in your browser.\u001b[0m\n",
      "\u001b[0m\n",
      "\u001b[34m  Local URL: \u001b[0m\u001b[1mhttp://localhost:8501\u001b[0m\n",
      "\u001b[34m  Network URL: \u001b[0m\u001b[1mhttp://10.18.6.177:8501\u001b[0m\n",
      "\u001b[0m\n",
      "\u001b[34m\u001b[1m  For better performance, install the Watchdog module:\u001b[0m\n",
      "\n",
      "  $ xcode-select --install\n",
      "  $ pip install watchdog\n",
      "            \u001b[0m\n",
      "/Users/Veenu_Yadav/Desktop/Projects/2025/SnowflakeCaseStudy/CodeBase/snowflake_app.py:6: DeprecationWarning: Python Runtime 3.9 reached its End-Of-Life (EOL) in October 2025, there will be no further bug fixes or security updates for this runtime. We recommend that you upgrade your existing Python 3.9 objects to Python 3.10, 3.11, 3.12 or 3.13. Please note that end of support does not impact execution, and you will still be able to update and invoke existing objects. However, they will be running on an unsupported runtime which will no longer be maintained or patched by the Snowflake team. For more details, please refer to https://docs.snowflake.com/en/developer-guide/python-runtime-support-policy.\n",
      "  from snowflake.snowpark import Session\n",
      "2025-10-02 15:34:10.643 Please replace `use_container_width` with `width`.\n",
      "\n",
      "`use_container_width` will be removed after 2025-12-31.\n",
      "\n",
      "For `use_container_width=True`, use `width='stretch'`. For `use_container_width=False`, use `width='content'`.\n",
      "^C\n",
      "\u001b[34m  Stopping...\u001b[0m\n"
     ]
    }
   ],
   "source": [
    "!streamlit run ./snowflake_app.py"
   ]
  },
  {
   "cell_type": "code",
   "execution_count": 18,
   "id": "215978fd-5e55-4914-823b-d30e711e10e0",
   "metadata": {},
   "outputs": [],
   "source": [
    "%run conn_s3.ipynb"
   ]
  },
  {
   "cell_type": "markdown",
   "id": "e156d366-19ed-40b6-bd64-95e2b0900995",
   "metadata": {},
   "source": [
    " ## End of code"
   ]
  }
 ],
 "metadata": {
  "kernelspec": {
   "display_name": "milvus_env",
   "language": "python",
   "name": "milvus_env"
  },
  "language_info": {
   "codemirror_mode": {
    "name": "ipython",
    "version": 3
   },
   "file_extension": ".py",
   "mimetype": "text/x-python",
   "name": "python",
   "nbconvert_exporter": "python",
   "pygments_lexer": "ipython3",
   "version": "3.9.21"
  }
 },
 "nbformat": 4,
 "nbformat_minor": 5
}
